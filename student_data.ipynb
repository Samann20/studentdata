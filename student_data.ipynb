{
  "nbformat": 4,
  "nbformat_minor": 0,
  "metadata": {
    "colab": {
      "provenance": []
    },
    "kernelspec": {
      "name": "python3",
      "display_name": "Python 3"
    },
    "language_info": {
      "name": "python"
    }
  },
  "cells": [
    {
      "cell_type": "code",
      "execution_count": 8,
      "metadata": {
        "colab": {
          "base_uri": "https://localhost:8080/"
        },
        "id": "9j2fOF9Nx6G0",
        "outputId": "18813ca2-187c-482b-e003-e12d09d5a268"
      },
      "outputs": [
        {
          "output_type": "stream",
          "name": "stdout",
          "text": [
            "--------student data--------\n",
            "enter all the data marked\n",
            "enter name: saman\n",
            "enter age: 18\n",
            "enter email: saman00@gmail.com\n",
            "enter address: A00 sector 11o north karachi\n",
            "enter phone number: 03342510000\n",
            "enter matric grade: 58\n",
            "enter intermediate grade: 78\n",
            "enter test marks: 28\n",
            "a/1000*b: 93.8\n",
            "name \n",
            " age \n",
            " email \n",
            " address \n",
            " phone_number \n",
            " matric_grade \n",
            " intermediate_grade \n",
            " test_marks \n",
            " \n",
            "grades percentage is:  93.8\n"
          ]
        }
      ],
      "source": [
        "print(\"--------student data--------\")\n",
        "print(\"enter all the data marked\")\n",
        "name=str(input(\"enter name: \"))\n",
        "age=str(input(\"enter age: \"))\n",
        "email=str(input(\"enter email: \"))\n",
        "address=str(input(\"enter address: \"))\n",
        "phone_number=str(input(\"enter phone number: \"))\n",
        "matric_grade=str(input(\"enter matric grade: \"))\n",
        "intermediate_grade=str(input(\"enter intermediate grade: \"))\n",
        "test_marks=str(input(\"enter test marks: \"))\n",
        "a=matric_grade+intermediate_grade+test_marks\n",
        "b=100\n",
        "c=str(input(\"a/1000*b: \"))\n",
        "print(\"name \\n age \\n email \\n address \\n phone_number \\n matric_grade \\n intermediate_grade \\n test_marks \\n \")\n",
        "print(\"grades percentage is: \" ,c)\n",
        "\n",
        "\n"
      ]
    },
    {
      "cell_type": "code",
      "source": [],
      "metadata": {
        "id": "AW_w_tYc8bUw"
      },
      "execution_count": null,
      "outputs": []
    },
    {
      "cell_type": "code",
      "source": [],
      "metadata": {
        "id": "N8TejCAX6-cP"
      },
      "execution_count": 4,
      "outputs": []
    }
  ]
}